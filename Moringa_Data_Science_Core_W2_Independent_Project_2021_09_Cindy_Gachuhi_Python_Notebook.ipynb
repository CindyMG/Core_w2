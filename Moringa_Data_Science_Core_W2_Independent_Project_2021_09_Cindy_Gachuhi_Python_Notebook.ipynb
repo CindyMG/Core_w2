{
  "nbformat": 4,
  "nbformat_minor": 0,
  "metadata": {
    "colab": {
      "name": "Moringa_Data_Science_Core_W2_Independent_Project_2021_09_Cindy_Gachuhi_Python Notebook",
      "provenance": [],
      "toc_visible": true,
      "authorship_tag": "ABX9TyOZFLrlqNndnM3eXWLhvdO3",
      "include_colab_link": true
    },
    "kernelspec": {
      "name": "python3",
      "display_name": "Python 3"
    },
    "language_info": {
      "name": "python"
    }
  },
  "cells": [
    {
      "cell_type": "markdown",
      "metadata": {
        "id": "view-in-github",
        "colab_type": "text"
      },
      "source": [
        "<a href=\"https://colab.research.google.com/github/CindyMG/Core_w2/blob/main/Moringa_Data_Science_Core_W2_Independent_Project_2021_09_Cindy_Gachuhi_Python_Notebook.ipynb\" target=\"_parent\"><img src=\"https://colab.research.google.com/assets/colab-badge.svg\" alt=\"Open In Colab\"/></a>"
      ]
    },
    {
      "cell_type": "markdown",
      "metadata": {
        "id": "2YSuX9u-Drh9"
      },
      "source": [
        "Importing python libraries"
      ]
    },
    {
      "cell_type": "code",
      "metadata": {
        "id": "9-Xe8xdfDjgl"
      },
      "source": [
        "#let us import the necessary python libraries\n",
        "import pandas as pd\n",
        "import numpy as np\n",
        "import seaborn as sns\n",
        "import matplotlib.pyplot as plt"
      ],
      "execution_count": 1,
      "outputs": []
    },
    {
      "cell_type": "markdown",
      "metadata": {
        "id": "A-fTkafIEHbt"
      },
      "source": [
        "From the following dataset, we will acquire the necessary data to conduct our analysis:\n",
        "http://bit.ly/FinancialDataset "
      ]
    },
    {
      "cell_type": "code",
      "metadata": {
        "colab": {
          "base_uri": "https://localhost:8080/",
          "height": 377
        },
        "id": "xyCxJNklJdHM",
        "outputId": "f1e5bc8e-00b6-4324-aa16-6eb14d9fad12"
      },
      "source": [
        "#let us create a dataframe from the following url:\n",
        "# http://bit.ly/FinancialDataset \n",
        "#\n",
        "FinAccess_df = pd.read_csv(\"http://bit.ly/FinancialDataset\")\n",
        "FinAccess_df.head()"
      ],
      "execution_count": 2,
      "outputs": [
        {
          "output_type": "execute_result",
          "data": {
            "text/html": [
              "<div>\n",
              "<style scoped>\n",
              "    .dataframe tbody tr th:only-of-type {\n",
              "        vertical-align: middle;\n",
              "    }\n",
              "\n",
              "    .dataframe tbody tr th {\n",
              "        vertical-align: top;\n",
              "    }\n",
              "\n",
              "    .dataframe thead th {\n",
              "        text-align: right;\n",
              "    }\n",
              "</style>\n",
              "<table border=\"1\" class=\"dataframe\">\n",
              "  <thead>\n",
              "    <tr style=\"text-align: right;\">\n",
              "      <th></th>\n",
              "      <th>country</th>\n",
              "      <th>year</th>\n",
              "      <th>uniqueid</th>\n",
              "      <th>Has a Bank account</th>\n",
              "      <th>Type of Location</th>\n",
              "      <th>Cell Phone Access</th>\n",
              "      <th>household_size</th>\n",
              "      <th>Respondent Age</th>\n",
              "      <th>gender_of_respondent</th>\n",
              "      <th>The relathip with head</th>\n",
              "      <th>marital_status</th>\n",
              "      <th>Level of Educuation</th>\n",
              "      <th>Type of Job</th>\n",
              "    </tr>\n",
              "  </thead>\n",
              "  <tbody>\n",
              "    <tr>\n",
              "      <th>0</th>\n",
              "      <td>Kenya</td>\n",
              "      <td>2018</td>\n",
              "      <td>uniqueid_1</td>\n",
              "      <td>Yes</td>\n",
              "      <td>Rural</td>\n",
              "      <td>Yes</td>\n",
              "      <td>3.0</td>\n",
              "      <td>24.0</td>\n",
              "      <td>Female</td>\n",
              "      <td>Spouse</td>\n",
              "      <td>Married/Living together</td>\n",
              "      <td>Secondary education</td>\n",
              "      <td>Self employed</td>\n",
              "    </tr>\n",
              "    <tr>\n",
              "      <th>1</th>\n",
              "      <td>Kenya</td>\n",
              "      <td>2018</td>\n",
              "      <td>uniqueid_2</td>\n",
              "      <td>No</td>\n",
              "      <td>Rural</td>\n",
              "      <td>No</td>\n",
              "      <td>5.0</td>\n",
              "      <td>70.0</td>\n",
              "      <td>Female</td>\n",
              "      <td>Head of Household</td>\n",
              "      <td>Widowed</td>\n",
              "      <td>No formal education</td>\n",
              "      <td>Government Dependent</td>\n",
              "    </tr>\n",
              "    <tr>\n",
              "      <th>2</th>\n",
              "      <td>Kenya</td>\n",
              "      <td>2018</td>\n",
              "      <td>uniqueid_3</td>\n",
              "      <td>Yes</td>\n",
              "      <td>Urban</td>\n",
              "      <td>Yes</td>\n",
              "      <td>5.0</td>\n",
              "      <td>26.0</td>\n",
              "      <td>Male</td>\n",
              "      <td>Other relative</td>\n",
              "      <td>Single/Never Married</td>\n",
              "      <td>Vocational/Specialised training</td>\n",
              "      <td>Self employed</td>\n",
              "    </tr>\n",
              "    <tr>\n",
              "      <th>3</th>\n",
              "      <td>Kenya</td>\n",
              "      <td>2018</td>\n",
              "      <td>uniqueid_4</td>\n",
              "      <td>No</td>\n",
              "      <td>Rural</td>\n",
              "      <td>Yes</td>\n",
              "      <td>5.0</td>\n",
              "      <td>34.0</td>\n",
              "      <td>Female</td>\n",
              "      <td>Head of Household</td>\n",
              "      <td>Married/Living together</td>\n",
              "      <td>Primary education</td>\n",
              "      <td>Formally employed Private</td>\n",
              "    </tr>\n",
              "    <tr>\n",
              "      <th>4</th>\n",
              "      <td>Kenya</td>\n",
              "      <td>2018</td>\n",
              "      <td>uniqueid_5</td>\n",
              "      <td>No</td>\n",
              "      <td>Urban</td>\n",
              "      <td>No</td>\n",
              "      <td>8.0</td>\n",
              "      <td>26.0</td>\n",
              "      <td>Male</td>\n",
              "      <td>Child</td>\n",
              "      <td>Single/Never Married</td>\n",
              "      <td>Primary education</td>\n",
              "      <td>Informally employed</td>\n",
              "    </tr>\n",
              "  </tbody>\n",
              "</table>\n",
              "</div>"
            ],
            "text/plain": [
              "  country  year  ...              Level of Educuation                Type of Job\n",
              "0   Kenya  2018  ...              Secondary education              Self employed\n",
              "1   Kenya  2018  ...              No formal education       Government Dependent\n",
              "2   Kenya  2018  ...  Vocational/Specialised training              Self employed\n",
              "3   Kenya  2018  ...                Primary education  Formally employed Private\n",
              "4   Kenya  2018  ...                Primary education        Informally employed\n",
              "\n",
              "[5 rows x 13 columns]"
            ]
          },
          "metadata": {},
          "execution_count": 2
        }
      ]
    },
    {
      "cell_type": "markdown",
      "metadata": {
        "id": "DYnG-pG5Ay3r"
      },
      "source": [
        "# **Cleaning our dataset**"
      ]
    },
    {
      "cell_type": "markdown",
      "metadata": {
        "id": "14aYtcTJ9XD5"
      },
      "source": [
        "1. Removing null values"
      ]
    },
    {
      "cell_type": "code",
      "metadata": {
        "colab": {
          "base_uri": "https://localhost:8080/"
        },
        "id": "oBAxG1YpKLuw",
        "outputId": "12118195-bd65-4125-947b-eda829f60419"
      },
      "source": [
        "#let us check for any null values or missing data\n",
        "#\n",
        "FinAccess_df.isnull().sum()"
      ],
      "execution_count": 3,
      "outputs": [
        {
          "output_type": "execute_result",
          "data": {
            "text/plain": [
              "country                   14\n",
              "year                       0\n",
              "uniqueid                   0\n",
              "Has a Bank account        36\n",
              "Type of Location          15\n",
              "Cell Phone Access         11\n",
              "household_size            28\n",
              "Respondent Age            34\n",
              "gender_of_respondent      34\n",
              "The relathip with head     4\n",
              "marital_status            32\n",
              "Level of Educuation       29\n",
              "Type of Job               30\n",
              "dtype: int64"
            ]
          },
          "metadata": {},
          "execution_count": 3
        }
      ]
    },
    {
      "cell_type": "code",
      "metadata": {
        "colab": {
          "base_uri": "https://localhost:8080/",
          "height": 377
        },
        "id": "xCkWriyGNhM7",
        "outputId": "55b37359-3a44-4aff-904f-2726a0f10dac"
      },
      "source": [
        "#now that we have identified the presence of null values, we will drop them \n",
        "FinAccess_df.dropna(inplace=True)\n",
        "FinAccess_df.head()"
      ],
      "execution_count": 8,
      "outputs": [
        {
          "output_type": "execute_result",
          "data": {
            "text/html": [
              "<div>\n",
              "<style scoped>\n",
              "    .dataframe tbody tr th:only-of-type {\n",
              "        vertical-align: middle;\n",
              "    }\n",
              "\n",
              "    .dataframe tbody tr th {\n",
              "        vertical-align: top;\n",
              "    }\n",
              "\n",
              "    .dataframe thead th {\n",
              "        text-align: right;\n",
              "    }\n",
              "</style>\n",
              "<table border=\"1\" class=\"dataframe\">\n",
              "  <thead>\n",
              "    <tr style=\"text-align: right;\">\n",
              "      <th></th>\n",
              "      <th>country</th>\n",
              "      <th>year</th>\n",
              "      <th>uniqueid</th>\n",
              "      <th>Has a Bank account</th>\n",
              "      <th>Type of Location</th>\n",
              "      <th>Cell Phone Access</th>\n",
              "      <th>household_size</th>\n",
              "      <th>Respondent Age</th>\n",
              "      <th>gender_of_respondent</th>\n",
              "      <th>The relathip with head</th>\n",
              "      <th>marital_status</th>\n",
              "      <th>Level of Educuation</th>\n",
              "      <th>Type of Job</th>\n",
              "    </tr>\n",
              "  </thead>\n",
              "  <tbody>\n",
              "    <tr>\n",
              "      <th>0</th>\n",
              "      <td>Kenya</td>\n",
              "      <td>2018</td>\n",
              "      <td>uniqueid_1</td>\n",
              "      <td>Yes</td>\n",
              "      <td>Rural</td>\n",
              "      <td>Yes</td>\n",
              "      <td>3.0</td>\n",
              "      <td>24.0</td>\n",
              "      <td>Female</td>\n",
              "      <td>Spouse</td>\n",
              "      <td>Married/Living together</td>\n",
              "      <td>Secondary education</td>\n",
              "      <td>Self employed</td>\n",
              "    </tr>\n",
              "    <tr>\n",
              "      <th>1</th>\n",
              "      <td>Kenya</td>\n",
              "      <td>2018</td>\n",
              "      <td>uniqueid_2</td>\n",
              "      <td>No</td>\n",
              "      <td>Rural</td>\n",
              "      <td>No</td>\n",
              "      <td>5.0</td>\n",
              "      <td>70.0</td>\n",
              "      <td>Female</td>\n",
              "      <td>Head of Household</td>\n",
              "      <td>Widowed</td>\n",
              "      <td>No formal education</td>\n",
              "      <td>Government Dependent</td>\n",
              "    </tr>\n",
              "    <tr>\n",
              "      <th>2</th>\n",
              "      <td>Kenya</td>\n",
              "      <td>2018</td>\n",
              "      <td>uniqueid_3</td>\n",
              "      <td>Yes</td>\n",
              "      <td>Urban</td>\n",
              "      <td>Yes</td>\n",
              "      <td>5.0</td>\n",
              "      <td>26.0</td>\n",
              "      <td>Male</td>\n",
              "      <td>Other relative</td>\n",
              "      <td>Single/Never Married</td>\n",
              "      <td>Vocational/Specialised training</td>\n",
              "      <td>Self employed</td>\n",
              "    </tr>\n",
              "    <tr>\n",
              "      <th>3</th>\n",
              "      <td>Kenya</td>\n",
              "      <td>2018</td>\n",
              "      <td>uniqueid_4</td>\n",
              "      <td>No</td>\n",
              "      <td>Rural</td>\n",
              "      <td>Yes</td>\n",
              "      <td>5.0</td>\n",
              "      <td>34.0</td>\n",
              "      <td>Female</td>\n",
              "      <td>Head of Household</td>\n",
              "      <td>Married/Living together</td>\n",
              "      <td>Primary education</td>\n",
              "      <td>Formally employed Private</td>\n",
              "    </tr>\n",
              "    <tr>\n",
              "      <th>4</th>\n",
              "      <td>Kenya</td>\n",
              "      <td>2018</td>\n",
              "      <td>uniqueid_5</td>\n",
              "      <td>No</td>\n",
              "      <td>Urban</td>\n",
              "      <td>No</td>\n",
              "      <td>8.0</td>\n",
              "      <td>26.0</td>\n",
              "      <td>Male</td>\n",
              "      <td>Child</td>\n",
              "      <td>Single/Never Married</td>\n",
              "      <td>Primary education</td>\n",
              "      <td>Informally employed</td>\n",
              "    </tr>\n",
              "  </tbody>\n",
              "</table>\n",
              "</div>"
            ],
            "text/plain": [
              "  country  year  ...              Level of Educuation                Type of Job\n",
              "0   Kenya  2018  ...              Secondary education              Self employed\n",
              "1   Kenya  2018  ...              No formal education       Government Dependent\n",
              "2   Kenya  2018  ...  Vocational/Specialised training              Self employed\n",
              "3   Kenya  2018  ...                Primary education  Formally employed Private\n",
              "4   Kenya  2018  ...                Primary education        Informally employed\n",
              "\n",
              "[5 rows x 13 columns]"
            ]
          },
          "metadata": {},
          "execution_count": 8
        }
      ]
    },
    {
      "cell_type": "code",
      "metadata": {
        "colab": {
          "base_uri": "https://localhost:8080/"
        },
        "id": "3JqTHAmy7oYO",
        "outputId": "882108d1-5aa9-45f8-9488-c56cfdb4adaa"
      },
      "source": [
        "#confirm that all the null values have been removed from the dataset\n",
        "#\n",
        "FinAccess_df.isnull().sum()\n",
        "\n",
        "#Great! All the null values have been cleaned out"
      ],
      "execution_count": 9,
      "outputs": [
        {
          "output_type": "execute_result",
          "data": {
            "text/plain": [
              "country                   0\n",
              "year                      0\n",
              "uniqueid                  0\n",
              "Has a Bank account        0\n",
              "Type of Location          0\n",
              "Cell Phone Access         0\n",
              "household_size            0\n",
              "Respondent Age            0\n",
              "gender_of_respondent      0\n",
              "The relathip with head    0\n",
              "marital_status            0\n",
              "Level of Educuation       0\n",
              "Type of Job               0\n",
              "dtype: int64"
            ]
          },
          "metadata": {},
          "execution_count": 9
        }
      ]
    },
    {
      "cell_type": "code",
      "metadata": {
        "colab": {
          "base_uri": "https://localhost:8080/"
        },
        "id": "v6XseaII8VrD",
        "outputId": "1128a31d-1ddc-4e95-93b0-0dfcd28c6602"
      },
      "source": [
        "#now let us check how many rows we have left after cleaning out the null values\n",
        "FinAccess_df.shape"
      ],
      "execution_count": 12,
      "outputs": [
        {
          "output_type": "execute_result",
          "data": {
            "text/plain": [
              "(23343, 13)"
            ]
          },
          "metadata": {},
          "execution_count": 12
        }
      ]
    },
    {
      "cell_type": "markdown",
      "metadata": {
        "id": "glaLvtLr9s1E"
      },
      "source": [
        "Dealing with outliers"
      ]
    },
    {
      "cell_type": "code",
      "metadata": {
        "colab": {
          "base_uri": "https://localhost:8080/",
          "height": 297
        },
        "id": "gS9zBv-J9sZl",
        "outputId": "c217de14-4496-40bd-af98-14f48b2a4f8e"
      },
      "source": [
        "#let us find out the descriptive statistics\n",
        "FinAccess_df.describe()"
      ],
      "execution_count": 14,
      "outputs": [
        {
          "output_type": "execute_result",
          "data": {
            "text/html": [
              "<div>\n",
              "<style scoped>\n",
              "    .dataframe tbody tr th:only-of-type {\n",
              "        vertical-align: middle;\n",
              "    }\n",
              "\n",
              "    .dataframe tbody tr th {\n",
              "        vertical-align: top;\n",
              "    }\n",
              "\n",
              "    .dataframe thead th {\n",
              "        text-align: right;\n",
              "    }\n",
              "</style>\n",
              "<table border=\"1\" class=\"dataframe\">\n",
              "  <thead>\n",
              "    <tr style=\"text-align: right;\">\n",
              "      <th></th>\n",
              "      <th>year</th>\n",
              "      <th>household_size</th>\n",
              "      <th>Respondent Age</th>\n",
              "    </tr>\n",
              "  </thead>\n",
              "  <tbody>\n",
              "    <tr>\n",
              "      <th>count</th>\n",
              "      <td>23343.000000</td>\n",
              "      <td>23343.000000</td>\n",
              "      <td>23343.000000</td>\n",
              "    </tr>\n",
              "    <tr>\n",
              "      <th>mean</th>\n",
              "      <td>2016.980594</td>\n",
              "      <td>3.688643</td>\n",
              "      <td>38.805509</td>\n",
              "    </tr>\n",
              "    <tr>\n",
              "      <th>std</th>\n",
              "      <td>0.901740</td>\n",
              "      <td>2.281184</td>\n",
              "      <td>16.519803</td>\n",
              "    </tr>\n",
              "    <tr>\n",
              "      <th>min</th>\n",
              "      <td>2016.000000</td>\n",
              "      <td>0.000000</td>\n",
              "      <td>16.000000</td>\n",
              "    </tr>\n",
              "    <tr>\n",
              "      <th>25%</th>\n",
              "      <td>2016.000000</td>\n",
              "      <td>2.000000</td>\n",
              "      <td>26.000000</td>\n",
              "    </tr>\n",
              "    <tr>\n",
              "      <th>50%</th>\n",
              "      <td>2017.000000</td>\n",
              "      <td>3.000000</td>\n",
              "      <td>35.000000</td>\n",
              "    </tr>\n",
              "    <tr>\n",
              "      <th>75%</th>\n",
              "      <td>2018.000000</td>\n",
              "      <td>5.000000</td>\n",
              "      <td>49.000000</td>\n",
              "    </tr>\n",
              "    <tr>\n",
              "      <th>max</th>\n",
              "      <td>2056.000000</td>\n",
              "      <td>21.000000</td>\n",
              "      <td>100.000000</td>\n",
              "    </tr>\n",
              "  </tbody>\n",
              "</table>\n",
              "</div>"
            ],
            "text/plain": [
              "               year  household_size  Respondent Age\n",
              "count  23343.000000    23343.000000    23343.000000\n",
              "mean    2016.980594        3.688643       38.805509\n",
              "std        0.901740        2.281184       16.519803\n",
              "min     2016.000000        0.000000       16.000000\n",
              "25%     2016.000000        2.000000       26.000000\n",
              "50%     2017.000000        3.000000       35.000000\n",
              "75%     2018.000000        5.000000       49.000000\n",
              "max     2056.000000       21.000000      100.000000"
            ]
          },
          "metadata": {},
          "execution_count": 14
        }
      ]
    },
    {
      "cell_type": "code",
      "metadata": {
        "id": "xNrQSGJxBMbq"
      },
      "source": [
        "# next, we will create a boxplot to get a visual of the outliers\n",
        "#let us define function , 'plot_boxplot'\n",
        "def plot_boxplot(df, ft):\n",
        "  df.boxplot(column=[ft])\n",
        "  plt.grid(False)\n",
        "  plt.show()"
      ],
      "execution_count": 15,
      "outputs": []
    },
    {
      "cell_type": "code",
      "metadata": {
        "colab": {
          "base_uri": "https://localhost:8080/",
          "height": 266
        },
        "id": "RLNDcvNaCgwG",
        "outputId": "df70f37e-1621-4940-c3e0-099cf6818759"
      },
      "source": [
        "#now that we have defined the function, let us call it\n",
        "#for the column 'household_size'\n",
        "plot_boxplot(FinAccess_df, \"household_size\")"
      ],
      "execution_count": 16,
      "outputs": [
        {
          "output_type": "display_data",
          "data": {
            "image/png": "[encoded data removed]",
            "text/plain": [
              "<Figure size 432x288 with 1 Axes>"
            ]
          },
          "metadata": {
            "needs_background": "light"
          }
        }
      ]
    },
    {
      "cell_type": "code",
      "metadata": {
        "colab": {
          "base_uri": "https://localhost:8080/",
          "height": 265
        },
        "id": "KMvEWcYKC0gv",
        "outputId": "615a531d-7cdb-4e53-e61e-bd542b75ecf0"
      },
      "source": [
        "#for the column 'respondent_age'\n",
        "plot_boxplot(FinAccess_df, \"Respondent Age\")"
      ],
      "execution_count": 17,
      "outputs": [
        {
          "output_type": "display_data",
          "data": {
            "image/png": "[encoded data removed]",
            "text/plain": [
              "<Figure size 432x288 with 1 Axes>"
            ]
          },
          "metadata": {
            "needs_background": "light"
          }
        }
      ]
    },
    {
      "cell_type": "code",
      "metadata": {
        "colab": {
          "base_uri": "https://localhost:8080/",
          "height": 265
        },
        "id": "jOQXYHdODL0D",
        "outputId": "5d5b088d-5716-4589-8d80-835de7962002"
      },
      "source": [
        "#for the column 'year'\n",
        "plot_boxplot(FinAccess_df, \"year\")"
      ],
      "execution_count": 18,
      "outputs": [
        {
          "output_type": "display_data",
          "data": {
            "image/png": "[encoded data removed]",
            "text/plain": [
              "<Figure size 432x288 with 1 Axes>"
            ]
          },
          "metadata": {
            "needs_background": "light"
          }
        }
      ]
    },
    {
      "cell_type": "code",
      "metadata": {
        "id": "T7LlqCdOF_Zc"
      },
      "source": [
        "#we are going to define the function 'outliers'\n",
        "#with the lower and upper bounds, we create a range \n",
        "#that defines that any value outside that give range is an outlier\n",
        "def outliers(df, ft):\n",
        "  Q1 = df[ft].quantile(0.25)\n",
        "  Q3 = df[ft].quantile(0.75)\n",
        "  IQR = Q3 - Q1\n",
        "\n",
        "  lower_bound = Q1 - 1.5 * IQR\n",
        "  upper_bound = Q3 + 1.5 * IQR\n",
        "\n",
        "  ls = df.index[ (df[ft] < lower_bound) | (df[ft] > upper_bound) ]\n",
        "  return ls"
      ],
      "execution_count": 22,
      "outputs": []
    },
    {
      "cell_type": "code",
      "metadata": {
        "id": "4954S-xTHUiW"
      },
      "source": [
        "#create an empty list to store the outlier indexes from the rows\n",
        "index_list = []\n",
        "for column in ['year', 'household_size', 'Respondent Age']:\n",
        "  index_list.extend(outliers(FinAccess_df, column))"
      ],
      "execution_count": 23,
      "outputs": []
    },
    {
      "cell_type": "code",
      "metadata": {
        "colab": {
          "base_uri": "https://localhost:8080/"
        },
        "id": "MeSnP2v2IEfP",
        "outputId": "dab6a9cb-bbf1-458e-b76b-e58d1f455c5e"
      },
      "source": [
        "index_list"
      ],
      "execution_count": 24,
      "outputs": [
        {
          "output_type": "execute_result",
          "data": {
            "text/plain": [
              "[213,\n",
              " 308,\n",
              " 7014,\n",
              " 34,\n",
              " 58,\n",
              " 92,\n",
              " 100,\n",
              " 348,\n",
              " 372,\n",
              " 380,\n",
              " 507,\n",
              " 547,\n",
              " 607,\n",
              " 674,\n",
              " 838,\n",
              " 879,\n",
              " 931,\n",
              " 949,\n",
              " 1056,\n",
              " 1148,\n",
              " 1327,\n",
              " 1403,\n",
              " 1486,\n",
              " 1493,\n",
              " 1507,\n",
              " 1591,\n",
              " 1599,\n",
              " 1790,\n",
              " 1838,\n",
              " 1893,\n",
              " 1933,\n",
              " 1999,\n",
              " 2085,\n",
              " 2109,\n",
              " 2121,\n",
              " 2169,\n",
              " 2176,\n",
              " 2207,\n",
              " 2290,\n",
              " 2373,\n",
              " 2436,\n",
              " 2477,\n",
              " 2503,\n",
              " 2533,\n",
              " 2593,\n",
              " 2599,\n",
              " 2648,\n",
              " 2715,\n",
              " 2726,\n",
              " 2805,\n",
              " 2847,\n",
              " 2879,\n",
              " 2886,\n",
              " 2911,\n",
              " 2974,\n",
              " 2979,\n",
              " 2988,\n",
              " 3030,\n",
              " 3044,\n",
              " 3081,\n",
              " 3086,\n",
              " 3171,\n",
              " 3224,\n",
              " 3281,\n",
              " 3289,\n",
              " 3370,\n",
              " 3420,\n",
              " 3462,\n",
              " 3468,\n",
              " 3481,\n",
              " 3486,\n",
              " 3597,\n",
              " 3691,\n",
              " 3770,\n",
              " 3849,\n",
              " 3912,\n",
              " 3979,\n",
              " 4045,\n",
              " 4078,\n",
              " 4158,\n",
              " 4189,\n",
              " 4198,\n",
              " 4224,\n",
              " 4343,\n",
              " 4392,\n",
              " 4395,\n",
              " 4405,\n",
              " 4479,\n",
              " 4510,\n",
              " 4582,\n",
              " 4842,\n",
              " 4961,\n",
              " 5014,\n",
              " 5023,\n",
              " 5078,\n",
              " 5087,\n",
              " 5110,\n",
              " 5147,\n",
              " 5152,\n",
              " 5222,\n",
              " 5225,\n",
              " 5244,\n",
              " 5257,\n",
              " 5307,\n",
              " 5387,\n",
              " 5402,\n",
              " 5414,\n",
              " 5416,\n",
              " 5537,\n",
              " 5640,\n",
              " 5676,\n",
              " 5765,\n",
              " 5784,\n",
              " 6051,\n",
              " 6076,\n",
              " 6119,\n",
              " 6163,\n",
              " 6221,\n",
              " 6281,\n",
              " 6417,\n",
              " 6460,\n",
              " 6608,\n",
              " 6628,\n",
              " 6651,\n",
              " 6694,\n",
              " 6719,\n",
              " 6809,\n",
              " 6966,\n",
              " 6981,\n",
              " 6993,\n",
              " 7064,\n",
              " 7346,\n",
              " 7414,\n",
              " 7457,\n",
              " 7497,\n",
              " 7527,\n",
              " 7561,\n",
              " 7672,\n",
              " 7722,\n",
              " 8096,\n",
              " 8341,\n",
              " 8352,\n",
              " 8367,\n",
              " 8463,\n",
              " 8606,\n",
              " 8766,\n",
              " 9128,\n",
              " 9181,\n",
              " 9209,\n",
              " 9268,\n",
              " 9362,\n",
              " 9402,\n",
              " 9420,\n",
              " 9452,\n",
              " 9512,\n",
              " 9513,\n",
              " 9674,\n",
              " 9691,\n",
              " 9702,\n",
              " 9859,\n",
              " 10470,\n",
              " 10480,\n",
              " 10589,\n",
              " 10669,\n",
              " 11175,\n",
              " 11199,\n",
              " 11239,\n",
              " 11343,\n",
              " 11526,\n",
              " 11530,\n",
              " 11540,\n",
              " 11561,\n",
              " 11597,\n",
              " 11610,\n",
              " 11652,\n",
              " 11680,\n",
              " 11740,\n",
              " 11823,\n",
              " 11830,\n",
              " 11886,\n",
              " 12091,\n",
              " 12171,\n",
              " 12327,\n",
              " 12440,\n",
              " 12470,\n",
              " 12709,\n",
              " 12745,\n",
              " 12775,\n",
              " 12835,\n",
              " 12863,\n",
              " 12943,\n",
              " 13010,\n",
              " 13214,\n",
              " 13450,\n",
              " 13493,\n",
              " 13531,\n",
              " 13962,\n",
              " 13999,\n",
              " 14112,\n",
              " 14123,\n",
              " 14224,\n",
              " 14352,\n",
              " 14368,\n",
              " 14378,\n",
              " 14418,\n",
              " 14695,\n",
              " 14744,\n",
              " 15304,\n",
              " 15337,\n",
              " 15341,\n",
              " 16100,\n",
              " 16257,\n",
              " 19591,\n",
              " 20049,\n",
              " 21213,\n",
              " 21463,\n",
              " 21479,\n",
              " 21497,\n",
              " 21536,\n",
              " 21538,\n",
              " 21540,\n",
              " 21549,\n",
              " 21559,\n",
              " 21571,\n",
              " 21591,\n",
              " 21595,\n",
              " 21596,\n",
              " 21602,\n",
              " 21610,\n",
              " 21613,\n",
              " 21620,\n",
              " 21634,\n",
              " 21642,\n",
              " 21645,\n",
              " 21653,\n",
              " 21657,\n",
              " 21658,\n",
              " 21674,\n",
              " 21695,\n",
              " 21725,\n",
              " 21726,\n",
              " 21732,\n",
              " 21745,\n",
              " 21761,\n",
              " 21771,\n",
              " 21790,\n",
              " 21800,\n",
              " 21827,\n",
              " 21848,\n",
              " 21871,\n",
              " 21889,\n",
              " 21898,\n",
              " 21899,\n",
              " 21910,\n",
              " 21912,\n",
              " 21929,\n",
              " 21948,\n",
              " 21954,\n",
              " 21958,\n",
              " 21979,\n",
              " 21997,\n",
              " 21998,\n",
              " 22018,\n",
              " 22029,\n",
              " 22036,\n",
              " 22063,\n",
              " 22064,\n",
              " 22095,\n",
              " 22098,\n",
              " 22105,\n",
              " 22116,\n",
              " 22138,\n",
              " 22140,\n",
              " 22146,\n",
              " 22147,\n",
              " 22164,\n",
              " 22166,\n",
              " 22190,\n",
              " 22194,\n",
              " 22244,\n",
              " 22266,\n",
              " 22289,\n",
              " 22292,\n",
              " 22294,\n",
              " 22317,\n",
              " 22322,\n",
              " 22331,\n",
              " 22339,\n",
              " 22357,\n",
              " 22389,\n",
              " 22392,\n",
              " 22401,\n",
              " 22420,\n",
              " 22423,\n",
              " 22425,\n",
              " 22437,\n",
              " 22469,\n",
              " 22479,\n",
              " 22484,\n",
              " 22498,\n",
              " 22499,\n",
              " 22535,\n",
              " 22564,\n",
              " 22572,\n",
              " 22579,\n",
              " 22586,\n",
              " 22632,\n",
              " 22634,\n",
              " 22643,\n",
              " 22671,\n",
              " 22684,\n",
              " 22690,\n",
              " 22693,\n",
              " 22697,\n",
              " 22711,\n",
              " 22730,\n",
              " 22732,\n",
              " 22777,\n",
              " 22778,\n",
              " 22782,\n",
              " 22794,\n",
              " 22799,\n",
              " 22801,\n",
              " 22802,\n",
              " 22812,\n",
              " 22815,\n",
              " 22843,\n",
              " 22847,\n",
              " 22853,\n",
              " 22858,\n",
              " 22859,\n",
              " 22872,\n",
              " 22879,\n",
              " 22892,\n",
              " 22919,\n",
              " 22941,\n",
              " 22950,\n",
              " 22957,\n",
              " 22961,\n",
              " 22972,\n",
              " 22979,\n",
              " 22999,\n",
              " 23055,\n",
              " 23061,\n",
              " 23073,\n",
              " 23090,\n",
              " 23094,\n",
              " 23108,\n",
              " 23128,\n",
              " 23131,\n",
              " 23139,\n",
              " 23158,\n",
              " 23200,\n",
              " 23213,\n",
              " 23230,\n",
              " 23238,\n",
              " 23245,\n",
              " 23249,\n",
              " 23267,\n",
              " 23286,\n",
              " 23299,\n",
              " 23301,\n",
              " 23309,\n",
              " 23310,\n",
              " 23311,\n",
              " 23321,\n",
              " 23322,\n",
              " 23336,\n",
              " 23358,\n",
              " 23371,\n",
              " 23377,\n",
              " 23426,\n",
              " 23441,\n",
              " 23452,\n",
              " 23461,\n",
              " 23468,\n",
              " 23471,\n",
              " 23482,\n",
              " 23523,\n",
              " 209,\n",
              " 268,\n",
              " 340,\n",
              " 366,\n",
              " 370,\n",
              " 472,\n",
              " 483,\n",
              " 517,\n",
              " 638,\n",
              " 662,\n",
              " 681,\n",
              " 693,\n",
              " 758,\n",
              " 759,\n",
              " 771,\n",
              " 814,\n",
              " 823,\n",
              " 919,\n",
              " 968,\n",
              " 1168,\n",
              " 1251,\n",
              " 1389,\n",
              " 1434,\n",
              " 1477,\n",
              " 1482,\n",
              " 1523,\n",
              " 1528,\n",
              " 1541,\n",
              " 1555,\n",
              " 1646,\n",
              " 1669,\n",
              " 1795,\n",
              " 1833,\n",
              " 1851,\n",
              " 1945,\n",
              " 1988,\n",
              " 2053,\n",
              " 2093,\n",
              " 2123,\n",
              " 2189,\n",
              " 2193,\n",
              " 2203,\n",
              " 2228,\n",
              " 2285,\n",
              " 2432,\n",
              " 2530,\n",
              " 2665,\n",
              " 2766,\n",
              " 2776,\n",
              " 2977,\n",
              " 2987,\n",
              " 3114,\n",
              " 3304,\n",
              " 3346,\n",
              " 3405,\n",
              " 3467,\n",
              " 3488,\n",
              " 3612,\n",
              " 3682,\n",
              " 3750,\n",
              " 3761,\n",
              " 3780,\n",
              " 3971,\n",
              " 4104,\n",
              " 4557,\n",
              " 4697,\n",
              " 4813,\n",
              " 4840,\n",
              " 4896,\n",
              " 4928,\n",
              " 5104,\n",
              " 5114,\n",
              " 5199,\n",
              " 5286,\n",
              " 5305,\n",
              " 5309,\n",
              " 5332,\n",
              " 5461,\n",
              " 5496,\n",
              " 5624,\n",
              " 5887,\n",
              " 6024,\n",
              " 6025,\n",
              " 6127,\n",
              " 6376,\n",
              " 6500,\n",
              " 6503,\n",
              " 6568,\n",
              " 6671,\n",
              " 6907,\n",
              " 6984,\n",
              " 7031,\n",
              " 7569,\n",
              " 7750,\n",
              " 7963,\n",
              " 7988,\n",
              " 8089,\n",
              " 8228,\n",
              " 8274,\n",
              " 8441,\n",
              " 8444,\n",
              " 8809,\n",
              " 8966,\n",
              " 9098,\n",
              " 9110,\n",
              " 9168,\n",
              " 9232,\n",
              " 9255,\n",
              " 9289,\n",
              " 9358,\n",
              " 9444,\n",
              " 9662,\n",
              " 9672,\n",
              " 9754,\n",
              " 9755,\n",
              " 10339,\n",
              " 10447,\n",
              " 10592,\n",
              " 10776,\n",
              " 10791,\n",
              " 10802,\n",
              " 10870,\n",
              " 10914,\n",
              " 10943,\n",
              " 10944,\n",
              " 11037,\n",
              " 11093,\n",
              " 11210,\n",
              " 11357,\n",
              " 11495,\n",
              " 11501,\n",
              " 11553,\n",
              " 11568,\n",
              " 11574,\n",
              " 11834,\n",
              " 12229,\n",
              " 12279,\n",
              " 12313,\n",
              " 12365,\n",
              " 12517,\n",
              " 12582,\n",
              " 12661,\n",
              " 12712,\n",
              " 13114,\n",
              " 13171,\n",
              " 13221,\n",
              " 13286,\n",
              " 13352,\n",
              " 13437,\n",
              " 13628,\n",
              " 13711,\n",
              " 13946,\n",
              " 14094,\n",
              " 14109,\n",
              " 14210,\n",
              " 14417,\n",
              " 14507,\n",
              " 14554,\n",
              " 14593,\n",
              " 14627,\n",
              " 14687,\n",
              " 14804,\n",
              " 14967,\n",
              " 15021,\n",
              " 15158,\n",
              " 15193,\n",
              " 15220,\n",
              " 15226,\n",
              " 15271,\n",
              " 15413,\n",
              " 15469,\n",
              " 15507,\n",
              " 15525,\n",
              " 15654,\n",
              " 16046,\n",
              " 16116,\n",
              " 16248,\n",
              " 16255,\n",
              " 16561,\n",
              " 16848,\n",
              " 17046,\n",
              " 17073,\n",
              " 17228,\n",
              " 17373,\n",
              " 17565,\n",
              " 17754,\n",
              " 17778,\n",
              " 18323,\n",
              " 18408,\n",
              " 18625,\n",
              " 18665,\n",
              " 18698,\n",
              " 18843,\n",
              " 18853,\n",
              " 18907,\n",
              " 18934,\n",
              " 19020,\n",
              " 19122,\n",
              " 19155,\n",
              " 19157,\n",
              " 19540,\n",
              " 19629,\n",
              " 19728,\n",
              " 19878,\n",
              " 19938,\n",
              " 19947,\n",
              " 20028,\n",
              " 20035,\n",
              " 20058,\n",
              " 20084,\n",
              " 20106,\n",
              " 20400,\n",
              " 20435,\n",
              " 20508,\n",
              " 20513,\n",
              " 20525,\n",
              " 20572,\n",
              " 20727,\n",
              " 20730,\n",
              " 20734,\n",
              " 20747,\n",
              " 20915,\n",
              " 20940,\n",
              " 20945,\n",
              " 21109,\n",
              " 21185,\n",
              " 21266,\n",
              " 21269,\n",
              " 21401,\n",
              " 21587,\n",
              " 21744,\n",
              " 21783,\n",
              " 21852,\n",
              " 22154,\n",
              " 22995,\n",
              " 23053,\n",
              " 23352,\n",
              " 23395,\n",
              " 23413]"
            ]
          },
          "metadata": {},
          "execution_count": 24
        }
      ]
    },
    {
      "cell_type": "code",
      "metadata": {
        "id": "WBcpBA6WIK_N"
      },
      "source": [
        "#define function 'remove' to clean out the outliers\n",
        "def remove(df, ls):\n",
        "  ls = sorted(set(ls))\n",
        "  df = df.drop(ls)\n",
        "  return df"
      ],
      "execution_count": 26,
      "outputs": []
    },
    {
      "cell_type": "code",
      "metadata": {
        "id": "L-PP8wq0I46F"
      },
      "source": [
        "df_cleaned = remove(FinAccess_df, index_list)"
      ],
      "execution_count": 27,
      "outputs": []
    },
    {
      "cell_type": "code",
      "metadata": {
        "colab": {
          "base_uri": "https://localhost:8080/"
        },
        "id": "Hx8y_4HQJFXG",
        "outputId": "0d1ee7d9-9972-4118-85f9-336f91a8cf36"
      },
      "source": [
        "df_cleaned.shape"
      ],
      "execution_count": 28,
      "outputs": [
        {
          "output_type": "execute_result",
          "data": {
            "text/plain": [
              "(22725, 13)"
            ]
          },
          "metadata": {},
          "execution_count": 28
        }
      ]
    },
    {
      "cell_type": "code",
      "metadata": {
        "colab": {
          "base_uri": "https://localhost:8080/",
          "height": 265
        },
        "id": "5uL8MF-rJQa7",
        "outputId": "2784f2d8-9b30-4300-9d0d-e7712c873caf"
      },
      "source": [
        "plot_boxplot(df_cleaned, 'year')"
      ],
      "execution_count": 29,
      "outputs": [
        {
          "output_type": "display_data",
          "data": {
            "image/png": "[encoded data removed]",
            "text/plain": [
              "<Figure size 432x288 with 1 Axes>"
            ]
          },
          "metadata": {
            "needs_background": "light"
          }
        }
      ]
    },
    {
      "cell_type": "code",
      "metadata": {
        "colab": {
          "base_uri": "https://localhost:8080/",
          "height": 266
        },
        "id": "e10pQb9OJZAl",
        "outputId": "f34ca776-3da6-407a-ad8d-13b5fae4c967"
      },
      "source": [
        "plot_boxplot(df_cleaned, 'household_size')"
      ],
      "execution_count": 30,
      "outputs": [
        {
          "output_type": "display_data",
          "data": {
            "image/png": "[encoded data removed]",
            "text/plain": [
              "<Figure size 432x288 with 1 Axes>"
            ]
          },
          "metadata": {
            "needs_background": "light"
          }
        }
      ]
    },
    {
      "cell_type": "code",
      "metadata": {
        "colab": {
          "base_uri": "https://localhost:8080/",
          "height": 265
        },
        "id": "25mYByL8JXCo",
        "outputId": "92fded98-05cd-4db1-dcd4-1ed01007a9de"
      },
      "source": [
        "plot_boxplot(df_cleaned, 'Respondent Age')"
      ],
      "execution_count": 31,
      "outputs": [
        {
          "output_type": "display_data",
          "data": {
            "image/png": "[encoded data removed]",
            "text/plain": [
              "<Figure size 432x288 with 1 Axes>"
            ]
          },
          "metadata": {
            "needs_background": "light"
          }
        }
      ]
    },
    {
      "cell_type": "code",
      "metadata": {
        "colab": {
          "base_uri": "https://localhost:8080/",
          "height": 377
        },
        "id": "xR6rBRArLRQA",
        "outputId": "9a07a9ee-7b72-40ab-c89b-9e8e1e775a27"
      },
      "source": [
        "df_cleaned.head()"
      ],
      "execution_count": 33,
      "outputs": [
        {
          "output_type": "execute_result",
          "data": {
            "text/html": [
              "<div>\n",
              "<style scoped>\n",
              "    .dataframe tbody tr th:only-of-type {\n",
              "        vertical-align: middle;\n",
              "    }\n",
              "\n",
              "    .dataframe tbody tr th {\n",
              "        vertical-align: top;\n",
              "    }\n",
              "\n",
              "    .dataframe thead th {\n",
              "        text-align: right;\n",
              "    }\n",
              "</style>\n",
              "<table border=\"1\" class=\"dataframe\">\n",
              "  <thead>\n",
              "    <tr style=\"text-align: right;\">\n",
              "      <th></th>\n",
              "      <th>country</th>\n",
              "      <th>year</th>\n",
              "      <th>uniqueid</th>\n",
              "      <th>Has a Bank account</th>\n",
              "      <th>Type of Location</th>\n",
              "      <th>Cell Phone Access</th>\n",
              "      <th>household_size</th>\n",
              "      <th>Respondent Age</th>\n",
              "      <th>gender_of_respondent</th>\n",
              "      <th>The relathip with head</th>\n",
              "      <th>marital_status</th>\n",
              "      <th>Level of Educuation</th>\n",
              "      <th>Type of Job</th>\n",
              "    </tr>\n",
              "  </thead>\n",
              "  <tbody>\n",
              "    <tr>\n",
              "      <th>0</th>\n",
              "      <td>Kenya</td>\n",
              "      <td>2018</td>\n",
              "      <td>uniqueid_1</td>\n",
              "      <td>Yes</td>\n",
              "      <td>Rural</td>\n",
              "      <td>Yes</td>\n",
              "      <td>3.0</td>\n",
              "      <td>24.0</td>\n",
              "      <td>Female</td>\n",
              "      <td>Spouse</td>\n",
              "      <td>Married/Living together</td>\n",
              "      <td>Secondary education</td>\n",
              "      <td>Self employed</td>\n",
              "    </tr>\n",
              "    <tr>\n",
              "      <th>1</th>\n",
              "      <td>Kenya</td>\n",
              "      <td>2018</td>\n",
              "      <td>uniqueid_2</td>\n",
              "      <td>No</td>\n",
              "      <td>Rural</td>\n",
              "      <td>No</td>\n",
              "      <td>5.0</td>\n",
              "      <td>70.0</td>\n",
              "      <td>Female</td>\n",
              "      <td>Head of Household</td>\n",
              "      <td>Widowed</td>\n",
              "      <td>No formal education</td>\n",
              "      <td>Government Dependent</td>\n",
              "    </tr>\n",
              "    <tr>\n",
              "      <th>2</th>\n",
              "      <td>Kenya</td>\n",
              "      <td>2018</td>\n",
              "      <td>uniqueid_3</td>\n",
              "      <td>Yes</td>\n",
              "      <td>Urban</td>\n",
              "      <td>Yes</td>\n",
              "      <td>5.0</td>\n",
              "      <td>26.0</td>\n",
              "      <td>Male</td>\n",
              "      <td>Other relative</td>\n",
              "      <td>Single/Never Married</td>\n",
              "      <td>Vocational/Specialised training</td>\n",
              "      <td>Self employed</td>\n",
              "    </tr>\n",
              "    <tr>\n",
              "      <th>3</th>\n",
              "      <td>Kenya</td>\n",
              "      <td>2018</td>\n",
              "      <td>uniqueid_4</td>\n",
              "      <td>No</td>\n",
              "      <td>Rural</td>\n",
              "      <td>Yes</td>\n",
              "      <td>5.0</td>\n",
              "      <td>34.0</td>\n",
              "      <td>Female</td>\n",
              "      <td>Head of Household</td>\n",
              "      <td>Married/Living together</td>\n",
              "      <td>Primary education</td>\n",
              "      <td>Formally employed Private</td>\n",
              "    </tr>\n",
              "    <tr>\n",
              "      <th>4</th>\n",
              "      <td>Kenya</td>\n",
              "      <td>2018</td>\n",
              "      <td>uniqueid_5</td>\n",
              "      <td>No</td>\n",
              "      <td>Urban</td>\n",
              "      <td>No</td>\n",
              "      <td>8.0</td>\n",
              "      <td>26.0</td>\n",
              "      <td>Male</td>\n",
              "      <td>Child</td>\n",
              "      <td>Single/Never Married</td>\n",
              "      <td>Primary education</td>\n",
              "      <td>Informally employed</td>\n",
              "    </tr>\n",
              "  </tbody>\n",
              "</table>\n",
              "</div>"
            ],
            "text/plain": [
              "  country  year  ...              Level of Educuation                Type of Job\n",
              "0   Kenya  2018  ...              Secondary education              Self employed\n",
              "1   Kenya  2018  ...              No formal education       Government Dependent\n",
              "2   Kenya  2018  ...  Vocational/Specialised training              Self employed\n",
              "3   Kenya  2018  ...                Primary education  Formally employed Private\n",
              "4   Kenya  2018  ...                Primary education        Informally employed\n",
              "\n",
              "[5 rows x 13 columns]"
            ]
          },
          "metadata": {},
          "execution_count": 33
        }
      ]
    },
    {
      "cell_type": "markdown",
      "metadata": {
        "id": "XJe4wlpzJ9KZ"
      },
      "source": [
        "# **Univariate analysis**"
      ]
    },
    {
      "cell_type": "code",
      "metadata": {
        "id": "n29TIFD0-ki5"
      },
      "source": [
        "# now, let us study the variable 'Has no bank account' more closely\n",
        "# How many people have bank accounts?\n",
        "# we will plot a pie chart to conduct our analysis\n"
      ],
      "execution_count": null,
      "outputs": []
    },
    {
      "cell_type": "markdown",
      "metadata": {
        "id": "CuzYe_SXMJED"
      },
      "source": [
        "# **Bivariate analysis**"
      ]
    },
    {
      "cell_type": "code",
      "metadata": {
        "id": "_PHTRm6dMHuC"
      },
      "source": [
        "df_cleaned[['year', 'racing', 'electric']].plot(kind='bar', figsize=(8, 6), stacked=True)\n",
        "\n",
        "# Rotating our x axis ticks\n",
        "plt.xticks(rotation = 45)\n",
        "\n",
        "# Giving our chart a title\n",
        "plt.title(\"Sales of Hybrid, Racing and Electric Bikes (May 2017 - May 18)\", fontsize=14, y=1.015)\n",
        "\n",
        "# Labeling our y axis\n",
        "plt.ylabel(\"Sales\", fontsize=14, labelpad=15)\n",
        "\n",
        "# Labeling our x axis\n",
        "plt.xlabel(\"Months\", fontsize=14, labelpad=15)\n",
        "\n",
        "# Displaying our chart\n",
        "plt.show()"
      ],
      "execution_count": null,
      "outputs": []
    }
  ]
}